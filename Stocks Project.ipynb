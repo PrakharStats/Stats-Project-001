{
 "cells": [
  {
   "cell_type": "code",
   "execution_count": 3,
   "id": "1207da67-efd0-46f1-b632-005214887f74",
   "metadata": {},
   "outputs": [],
   "source": [
    "import pandas as pd\n",
    "import seaborn as sns\n",
    "import numpy as np\n",
    "from pandas_datareader import data, wb\n",
    "import datetime as dt\n",
    "%matplotlib inline"
   ]
  },
  {
   "cell_type": "code",
   "execution_count": 24,
   "id": "d4c554b7-e837-4d0d-bca5-925bd8d7f6aa",
   "metadata": {},
   "outputs": [],
   "source": [
    "start = dt.datetime(2003,1,1)\n",
    "end = dt.datetime(2022,1,1)"
   ]
  },
  {
   "cell_type": "code",
   "execution_count": 25,
   "id": "5b61c7f6-ed49-44b0-acf1-a543b886db46",
   "metadata": {},
   "outputs": [],
   "source": [
    "Tata = data.DataReader(\"TATACONSUM.NS\",\"yahoo\",start,end)"
   ]
  },
  {
   "cell_type": "code",
   "execution_count": 42,
   "id": "75906aaa-5fd3-4e56-b0ee-c7bdc04de9b4",
   "metadata": {},
   "outputs": [
    {
     "data": {
      "text/html": [
       "<div>\n",
       "<style scoped>\n",
       "    .dataframe tbody tr th:only-of-type {\n",
       "        vertical-align: middle;\n",
       "    }\n",
       "\n",
       "    .dataframe tbody tr th {\n",
       "        vertical-align: top;\n",
       "    }\n",
       "\n",
       "    .dataframe thead th {\n",
       "        text-align: right;\n",
       "    }\n",
       "</style>\n",
       "<table border=\"1\" class=\"dataframe\">\n",
       "  <thead>\n",
       "    <tr style=\"text-align: right;\">\n",
       "      <th></th>\n",
       "      <th>High</th>\n",
       "      <th>Low</th>\n",
       "      <th>Open</th>\n",
       "      <th>Close</th>\n",
       "      <th>Volume</th>\n",
       "      <th>Adj Close</th>\n",
       "    </tr>\n",
       "    <tr>\n",
       "      <th>Date</th>\n",
       "      <th></th>\n",
       "      <th></th>\n",
       "      <th></th>\n",
       "      <th></th>\n",
       "      <th></th>\n",
       "      <th></th>\n",
       "    </tr>\n",
       "  </thead>\n",
       "  <tbody>\n",
       "    <tr>\n",
       "      <th>2003-01-01</th>\n",
       "      <td>17.480000</td>\n",
       "      <td>17.299999</td>\n",
       "      <td>17.400000</td>\n",
       "      <td>17.430000</td>\n",
       "      <td>402300.0</td>\n",
       "      <td>12.281036</td>\n",
       "    </tr>\n",
       "    <tr>\n",
       "      <th>2003-01-02</th>\n",
       "      <td>17.610001</td>\n",
       "      <td>17.170000</td>\n",
       "      <td>17.445000</td>\n",
       "      <td>17.245001</td>\n",
       "      <td>1117400.0</td>\n",
       "      <td>12.150683</td>\n",
       "    </tr>\n",
       "    <tr>\n",
       "      <th>2003-01-03</th>\n",
       "      <td>17.379999</td>\n",
       "      <td>17.025000</td>\n",
       "      <td>17.299999</td>\n",
       "      <td>17.105000</td>\n",
       "      <td>400120.0</td>\n",
       "      <td>12.052039</td>\n",
       "    </tr>\n",
       "    <tr>\n",
       "      <th>2003-01-06</th>\n",
       "      <td>17.240000</td>\n",
       "      <td>16.910000</td>\n",
       "      <td>17.150000</td>\n",
       "      <td>17.000000</td>\n",
       "      <td>515770.0</td>\n",
       "      <td>11.978059</td>\n",
       "    </tr>\n",
       "    <tr>\n",
       "      <th>2003-01-07</th>\n",
       "      <td>17.150000</td>\n",
       "      <td>16.809999</td>\n",
       "      <td>17.000000</td>\n",
       "      <td>16.855000</td>\n",
       "      <td>395710.0</td>\n",
       "      <td>11.875892</td>\n",
       "    </tr>\n",
       "  </tbody>\n",
       "</table>\n",
       "</div>"
      ],
      "text/plain": [
       "                 High        Low       Open      Close     Volume  Adj Close\n",
       "Date                                                                        \n",
       "2003-01-01  17.480000  17.299999  17.400000  17.430000   402300.0  12.281036\n",
       "2003-01-02  17.610001  17.170000  17.445000  17.245001  1117400.0  12.150683\n",
       "2003-01-03  17.379999  17.025000  17.299999  17.105000   400120.0  12.052039\n",
       "2003-01-06  17.240000  16.910000  17.150000  17.000000   515770.0  11.978059\n",
       "2003-01-07  17.150000  16.809999  17.000000  16.855000   395710.0  11.875892"
      ]
     },
     "execution_count": 42,
     "metadata": {},
     "output_type": "execute_result"
    }
   ],
   "source": [
    "Tata.head()"
   ]
  },
  {
   "cell_type": "code",
   "execution_count": null,
   "id": "611d2bed-8367-47e6-9332-9133cbe10cfd",
   "metadata": {},
   "outputs": [],
   "source": []
  }
 ],
 "metadata": {
  "kernelspec": {
   "display_name": "Python 3 (ipykernel)",
   "language": "python",
   "name": "python3"
  },
  "language_info": {
   "codemirror_mode": {
    "name": "ipython",
    "version": 3
   },
   "file_extension": ".py",
   "mimetype": "text/x-python",
   "name": "python",
   "nbconvert_exporter": "python",
   "pygments_lexer": "ipython3",
   "version": "3.8.10"
  }
 },
 "nbformat": 4,
 "nbformat_minor": 5
}
